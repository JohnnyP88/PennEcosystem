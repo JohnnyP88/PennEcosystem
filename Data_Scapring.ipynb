{
 "cells": [
  {
   "cell_type": "code",
   "execution_count": null,
   "metadata": {},
   "outputs": [],
   "source": [
    "# pip install bs4\n",
    "# pip install selenium\n",
    "# pip install requests\n",
    "# pip install webdriver-manager"
   ]
  },
  {
   "cell_type": "markdown",
   "metadata": {},
   "source": [
    "https://medium.com/analytics-vidhya/web-scraping-google-search-results-with-selenium-and-beautifulsoup-4c534817ad88"
   ]
  },
  {
   "cell_type": "code",
   "execution_count": 1,
   "metadata": {},
   "outputs": [],
   "source": [
    "from selenium import webdriver\n",
    "from webdriver_manager.chrome import ChromeDriverManager\n",
    "# Import the beautifulsoup and request libraries of python.\n",
    "import requests\n",
    "import bs4"
   ]
  },
  {
   "cell_type": "code",
   "execution_count": 2,
   "metadata": {},
   "outputs": [
    {
     "name": "stderr",
     "output_type": "stream",
     "text": [
      "/var/folders/m5/tw1ymsrj4jjg5vcyxyqy8r280000gn/T/ipykernel_72354/1014324415.py:3: DeprecationWarning: executable_path has been deprecated, please pass in a Service object\n",
      "  driver = webdriver.Chrome(ChromeDriverManager().install(), chrome_options=chrome_options)\n",
      "/var/folders/m5/tw1ymsrj4jjg5vcyxyqy8r280000gn/T/ipykernel_72354/1014324415.py:3: DeprecationWarning: use options instead of chrome_options\n",
      "  driver = webdriver.Chrome(ChromeDriverManager().install(), chrome_options=chrome_options)\n"
     ]
    }
   ],
   "source": [
    "chrome_options = webdriver.ChromeOptions()\n",
    "chrome_options.add_argument(\"--headless\")\n",
    "driver = webdriver.Chrome(ChromeDriverManager().install(), chrome_options=chrome_options)\n",
    "import ssl\n",
    "ssl._create_default_https_context = ssl._create_unverified_context"
   ]
  },
  {
   "cell_type": "code",
   "execution_count": 3,
   "metadata": {},
   "outputs": [
    {
     "ename": "WebDriverException",
     "evalue": "Message: unknown error: net::ERR_NAME_NOT_RESOLVED\n  (Session info: headless chrome=105.0.5195.125)\nStacktrace:\n0   chromedriver                        0x000000010aedd788 chromedriver + 4515720\n1   chromedriver                        0x000000010ae619d3 chromedriver + 4008403\n2   chromedriver                        0x000000010aaf412a chromedriver + 413994\n3   chromedriver                        0x000000010aaedd8e chromedriver + 388494\n4   chromedriver                        0x000000010aae14ad chromedriver + 337069\n5   chromedriver                        0x000000010aae2370 chromedriver + 340848\n6   chromedriver                        0x000000010aae1718 chromedriver + 337688\n7   chromedriver                        0x000000010aae0bd4 chromedriver + 334804\n8   chromedriver                        0x000000010aadfa87 chromedriver + 330375\n9   chromedriver                        0x000000010aadfe02 chromedriver + 331266\n10  chromedriver                        0x000000010aaf5d2e chromedriver + 421166\n11  chromedriver                        0x000000010ab5c40f chromedriver + 840719\n12  chromedriver                        0x000000010ab487d2 chromedriver + 759762\n13  chromedriver                        0x000000010ab5bbd9 chromedriver + 838617\n14  chromedriver                        0x000000010ab48603 chromedriver + 759299\n15  chromedriver                        0x000000010ab1e990 chromedriver + 588176\n16  chromedriver                        0x000000010ab1fa75 chromedriver + 592501\n17  chromedriver                        0x000000010aead6cd chromedriver + 4318925\n18  chromedriver                        0x000000010aeb1f35 chromedriver + 4337461\n19  chromedriver                        0x000000010aeb91ff chromedriver + 4366847\n20  chromedriver                        0x000000010aeb2c5a chromedriver + 4340826\n21  chromedriver                        0x000000010ae88c2c chromedriver + 4168748\n22  chromedriver                        0x000000010aecf4f8 chromedriver + 4457720\n23  chromedriver                        0x000000010aecf693 chromedriver + 4458131\n24  chromedriver                        0x000000010aee4a3e chromedriver + 4545086\n25  libsystem_pthread.dylib             0x00007ff80bd1d4e1 _pthread_start + 125\n26  libsystem_pthread.dylib             0x00007ff80bd18f6b thread_start + 15\n",
     "output_type": "error",
     "traceback": [
      "\u001b[0;31m---------------------------------------------------------------------------\u001b[0m",
      "\u001b[0;31mWebDriverException\u001b[0m                        Traceback (most recent call last)",
      "Cell \u001b[0;32mIn [3], line 15\u001b[0m\n\u001b[1;32m     13\u001b[0m \u001b[38;5;28;01mfor\u001b[39;00m page \u001b[38;5;129;01min\u001b[39;00m \u001b[38;5;28mrange\u001b[39m(\u001b[38;5;241m1\u001b[39m, n_pages):\n\u001b[1;32m     14\u001b[0m     url \u001b[38;5;241m=\u001b[39m \u001b[38;5;124m\"\u001b[39m\u001b[38;5;124mhttps://www.google.edu/search?\u001b[39m\u001b[38;5;124m\"\u001b[39m \u001b[38;5;241m+\u001b[39m domain \u001b[38;5;241m+\u001b[39m text \u001b[38;5;241m+\u001b[39m \u001b[38;5;124m\"\u001b[39m\u001b[38;5;124m&start=\u001b[39m\u001b[38;5;124m\"\u001b[39m \u001b[38;5;241m+\u001b[39m \u001b[38;5;28mstr\u001b[39m((page \u001b[38;5;241m-\u001b[39m \u001b[38;5;241m1\u001b[39m) \u001b[38;5;241m*\u001b[39m \u001b[38;5;241m10\u001b[39m)\n\u001b[0;32m---> 15\u001b[0m     driver\u001b[38;5;241m.\u001b[39mget(url)\n\u001b[1;32m     16\u001b[0m     soup \u001b[38;5;241m=\u001b[39m bs4\u001b[38;5;241m.\u001b[39mBeautifulSoup(driver\u001b[38;5;241m.\u001b[39mpage_source, \u001b[38;5;124m'\u001b[39m\u001b[38;5;124mhtml.parser\u001b[39m\u001b[38;5;124m'\u001b[39m)\n\u001b[1;32m     17\u001b[0m     \u001b[38;5;66;03m# soup = BeautifulSoup(r.text, 'html.parser')\u001b[39;00m\n",
      "File \u001b[0;32m/Library/Frameworks/Python.framework/Versions/3.9/lib/python3.9/site-packages/selenium/webdriver/remote/webdriver.py:441\u001b[0m, in \u001b[0;36mWebDriver.get\u001b[0;34m(self, url)\u001b[0m\n\u001b[1;32m    437\u001b[0m \u001b[39mdef\u001b[39;00m \u001b[39mget\u001b[39m(\u001b[39mself\u001b[39m, url: \u001b[39mstr\u001b[39m) \u001b[39m-\u001b[39m\u001b[39m>\u001b[39m \u001b[39mNone\u001b[39;00m:\n\u001b[1;32m    438\u001b[0m     \u001b[39m\"\"\"\u001b[39;00m\n\u001b[1;32m    439\u001b[0m \u001b[39m    Loads a web page in the current browser session.\u001b[39;00m\n\u001b[1;32m    440\u001b[0m \u001b[39m    \"\"\"\u001b[39;00m\n\u001b[0;32m--> 441\u001b[0m     \u001b[39mself\u001b[39;49m\u001b[39m.\u001b[39;49mexecute(Command\u001b[39m.\u001b[39;49mGET, {\u001b[39m'\u001b[39;49m\u001b[39murl\u001b[39;49m\u001b[39m'\u001b[39;49m: url})\n",
      "File \u001b[0;32m/Library/Frameworks/Python.framework/Versions/3.9/lib/python3.9/site-packages/selenium/webdriver/remote/webdriver.py:429\u001b[0m, in \u001b[0;36mWebDriver.execute\u001b[0;34m(self, driver_command, params)\u001b[0m\n\u001b[1;32m    427\u001b[0m response \u001b[39m=\u001b[39m \u001b[39mself\u001b[39m\u001b[39m.\u001b[39mcommand_executor\u001b[39m.\u001b[39mexecute(driver_command, params)\n\u001b[1;32m    428\u001b[0m \u001b[39mif\u001b[39;00m response:\n\u001b[0;32m--> 429\u001b[0m     \u001b[39mself\u001b[39;49m\u001b[39m.\u001b[39;49merror_handler\u001b[39m.\u001b[39;49mcheck_response(response)\n\u001b[1;32m    430\u001b[0m     response[\u001b[39m'\u001b[39m\u001b[39mvalue\u001b[39m\u001b[39m'\u001b[39m] \u001b[39m=\u001b[39m \u001b[39mself\u001b[39m\u001b[39m.\u001b[39m_unwrap_value(\n\u001b[1;32m    431\u001b[0m         response\u001b[39m.\u001b[39mget(\u001b[39m'\u001b[39m\u001b[39mvalue\u001b[39m\u001b[39m'\u001b[39m, \u001b[39mNone\u001b[39;00m))\n\u001b[1;32m    432\u001b[0m     \u001b[39mreturn\u001b[39;00m response\n",
      "File \u001b[0;32m/Library/Frameworks/Python.framework/Versions/3.9/lib/python3.9/site-packages/selenium/webdriver/remote/errorhandler.py:243\u001b[0m, in \u001b[0;36mErrorHandler.check_response\u001b[0;34m(self, response)\u001b[0m\n\u001b[1;32m    241\u001b[0m         alert_text \u001b[39m=\u001b[39m value[\u001b[39m'\u001b[39m\u001b[39malert\u001b[39m\u001b[39m'\u001b[39m]\u001b[39m.\u001b[39mget(\u001b[39m'\u001b[39m\u001b[39mtext\u001b[39m\u001b[39m'\u001b[39m)\n\u001b[1;32m    242\u001b[0m     \u001b[39mraise\u001b[39;00m exception_class(message, screen, stacktrace, alert_text)  \u001b[39m# type: ignore[call-arg]  # mypy is not smart enough here\u001b[39;00m\n\u001b[0;32m--> 243\u001b[0m \u001b[39mraise\u001b[39;00m exception_class(message, screen, stacktrace)\n",
      "\u001b[0;31mWebDriverException\u001b[0m: Message: unknown error: net::ERR_NAME_NOT_RESOLVED\n  (Session info: headless chrome=105.0.5195.125)\nStacktrace:\n0   chromedriver                        0x000000010aedd788 chromedriver + 4515720\n1   chromedriver                        0x000000010ae619d3 chromedriver + 4008403\n2   chromedriver                        0x000000010aaf412a chromedriver + 413994\n3   chromedriver                        0x000000010aaedd8e chromedriver + 388494\n4   chromedriver                        0x000000010aae14ad chromedriver + 337069\n5   chromedriver                        0x000000010aae2370 chromedriver + 340848\n6   chromedriver                        0x000000010aae1718 chromedriver + 337688\n7   chromedriver                        0x000000010aae0bd4 chromedriver + 334804\n8   chromedriver                        0x000000010aadfa87 chromedriver + 330375\n9   chromedriver                        0x000000010aadfe02 chromedriver + 331266\n10  chromedriver                        0x000000010aaf5d2e chromedriver + 421166\n11  chromedriver                        0x000000010ab5c40f chromedriver + 840719\n12  chromedriver                        0x000000010ab487d2 chromedriver + 759762\n13  chromedriver                        0x000000010ab5bbd9 chromedriver + 838617\n14  chromedriver                        0x000000010ab48603 chromedriver + 759299\n15  chromedriver                        0x000000010ab1e990 chromedriver + 588176\n16  chromedriver                        0x000000010ab1fa75 chromedriver + 592501\n17  chromedriver                        0x000000010aead6cd chromedriver + 4318925\n18  chromedriver                        0x000000010aeb1f35 chromedriver + 4337461\n19  chromedriver                        0x000000010aeb91ff chromedriver + 4366847\n20  chromedriver                        0x000000010aeb2c5a chromedriver + 4340826\n21  chromedriver                        0x000000010ae88c2c chromedriver + 4168748\n22  chromedriver                        0x000000010aecf4f8 chromedriver + 4457720\n23  chromedriver                        0x000000010aecf693 chromedriver + 4458131\n24  chromedriver                        0x000000010aee4a3e chromedriver + 4545086\n25  libsystem_pthread.dylib             0x00007ff80bd1d4e1 _pthread_start + 125\n26  libsystem_pthread.dylib             0x00007ff80bd18f6b thread_start + 15\n"
     ]
    }
   ],
   "source": [
    "## Google search\n",
    "## blocked due to high frequency search\n",
    "\n",
    "from time import sleep\n",
    "\n",
    "\n",
    "text= \"innovation\"\n",
    "domain = \"site%3Aupenn.edu+\"\n",
    "links = [] # Initiate empty list to capture final results\n",
    "# Specify number of pages on google search, each page contains 10 #links\n",
    "\n",
    "n_pages = 10\n",
    "for page in range(1, n_pages):\n",
    "    url = \"https://www.google.edu/search?\" + domain + text + \"&start=\" + str((page - 1) * 10)\n",
    "    driver.get(url)\n",
    "    soup = bs4.BeautifulSoup(driver.page_source, 'html.parser')\n",
    "    # soup = BeautifulSoup(r.text, 'html.parser')\n",
    "    print(soup)\n",
    "    search = soup.find_all('div', class_=\"yuRUbf\")\n",
    "    print(search)\n",
    "    for h in search:\n",
    "        links.append(h.a.get('href'))\n",
    "    time.sleep(3)"
   ]
  },
  {
   "cell_type": "code",
   "execution_count": null,
   "metadata": {},
   "outputs": [],
   "source": [
    "links"
   ]
  },
  {
   "cell_type": "code",
   "execution_count": 4,
   "metadata": {},
   "outputs": [
    {
     "name": "stdout",
     "output_type": "stream",
     "text": [
      "Downloading Penn Nursing Innovation Accelerator\n",
      "Downloading Innovation Archives - Knowledge at Wharton\n",
      "Downloading President's Innovation Prize | Penn CURF\n",
      "Downloading Innovation • Penn Nursing\n",
      "Downloading Penn Center for Cancer Care Innovation (PC3I)\n",
      "Downloading Center for Technology Innovations & Competition • Center for ...\n",
      "Downloading Master of Health Care Innovation | MEHP\n",
      "Downloading Innovation | Office of the Dean | Perelman School of Medicine at the ...\n",
      "Downloading Mack Institute for Innovation Management: Home\n",
      "Downloading Research & Innovation | University of Pennsylvania\n",
      "Downloading Penn's Research Enterprise | University of Pennsylvania\n",
      "Downloading Penn Nursing Innovation Accelerator\n",
      "Downloading Innovation Archives - Knowledge at Wharton\n",
      "Downloading President's Innovation Prize | Penn CURF\n",
      "Downloading Innovation • Penn Nursing\n",
      "Downloading Penn Center for Cancer Care Innovation (PC3I)\n",
      "Downloading Center for Technology Innovations & Competition • Center for ...\n",
      "Downloading Master of Health Care Innovation | MEHP\n",
      "Downloading Innovation | Office of the Dean | Perelman School of Medicine at the ...\n",
      "Downloading Mack Institute for Innovation Management: Home\n",
      "Downloading Research & Innovation | University of Pennsylvania\n",
      "Downloading Penn's Research Enterprise | University of Pennsylvania\n",
      "Downloading President's Innovation Prize\n",
      "Downloading Penn Center for Innovation: Home\n",
      "Downloading Entrepreneurship & Innovation Concentration - Management ...\n",
      "Downloading Innovation Accelerator Program | Acceleration Lab\n",
      "Downloading Stevens Center for Innovation in Finance\n",
      "Downloading Mission | Center for Health Care Innovation\n",
      "Downloading Center for Health Care Innovation: Home\n",
      "Downloading Wharton Innovation Doctoral Symposium - Mack Institute for ...\n",
      "Downloading Center for Innovation & Precision Dentistry - Penn Dental Medicine\n",
      "Downloading Program on Vehicle and Mobility Innovation: PVMI\n",
      "Downloading President's Innovation Prize\n",
      "Downloading Penn Center for Innovation: Home\n",
      "Downloading Entrepreneurship & Innovation Concentration - Management ...\n",
      "Downloading Innovation Accelerator Program | Acceleration Lab\n",
      "Downloading Stevens Center for Innovation in Finance\n",
      "Downloading Mission | Center for Health Care Innovation\n",
      "Downloading Center for Health Care Innovation: Home\n",
      "Downloading Wharton Innovation Doctoral Symposium - Mack Institute for ...\n",
      "Downloading Center for Innovation & Precision Dentistry - Penn Dental Medicine\n",
      "Downloading Program on Vehicle and Mobility Innovation: PVMI\n",
      "Downloading English for Leadership and Innovation | Penn ELP\n",
      "Downloading Education Innovation & Entrepreneurship | Penn GSE\n",
      "Downloading Mastering Innovation: Strategy, Process, and Tools – Wharton\n",
      "Downloading Penn Wharton Innovation Fund\n",
      "Downloading Journal of Law & Innovation • Penn Carey Law\n",
      "Downloading Health Care Innovation, MHCI < University of Pennsylvania\n",
      "Downloading Innovation + Entrepreneurship\n",
      "Downloading Who We Are - Penn Center for Innovation\n",
      "Downloading Global Education Entrepreneurship and Innovation Certificate ...\n",
      "Downloading Technology, Innovation, and Analytics - Undergrad Inside\n",
      "Downloading President's Innovation Prize\n",
      "Downloading Penn Center for Innovation: Home\n",
      "Downloading Entrepreneurship & Innovation Concentration - Management ...\n",
      "Downloading Innovation Accelerator Program | Acceleration Lab\n",
      "Downloading Stevens Center for Innovation in Finance\n",
      "Downloading Mission | Center for Health Care Innovation\n",
      "Downloading Center for Health Care Innovation: Home\n",
      "Downloading Wharton Innovation Doctoral Symposium - Mack Institute for ...\n",
      "Downloading Center for Innovation & Precision Dentistry - Penn Dental Medicine\n",
      "Downloading Program on Vehicle and Mobility Innovation: PVMI\n"
     ]
    }
   ],
   "source": [
    "import urllib.request\n",
    "# Penn Website search https://www.upenn.edu/search\n",
    "text= \"innovation\"\n",
    "links = [] # Initiate empty list to capture final results\n",
    "# Specify number of pages on google search, each page contains 10 #links\n",
    "\n",
    "n_pages = 5\n",
    "for page in range(1, n_pages):\n",
    "   #https://www.upenn.edu/search?as_q=innovation#gsc.tab=0&gsc.q=innovation&gsc.page=1 \n",
    "    url = \"https://www.upenn.edu/search?as_q=\" + text + \"#gsc.tab=0&gsc.q=innovation&gsc.page=\" + str((page))\n",
    "    driver.get(url)\n",
    "    soup = bs4.BeautifulSoup(driver.page_source, 'html.parser')\n",
    "    search = soup.find_all('div', class_=\"gsc-thumbnail-inside\")\n",
    "    for h in search:\n",
    "        link = h.a.get('href')\n",
    "        title = h.a.text\n",
    "        links.append(link)\n",
    "        try:\n",
    "            urllib.request.urlretrieve(link, 'html/' + title + '.html')\n",
    "        except:\n",
    "            continue\n",
    "        print(\"Downloading \"+title)"
   ]
  },
  {
   "cell_type": "code",
   "execution_count": null,
   "metadata": {},
   "outputs": [],
   "source": [
    "  # Make two strings with default google search URL\n",
    "# 'https://google.com/search?q=' and\n",
    "# our customized search keyword.\n",
    "# Concatenate them\n",
    "text= \"innovation\"\n",
    "domain = \"site%3Aupenn.edu+\"\n",
    "url = 'https://google.com/search?q=' + domain + text\n",
    "  \n",
    "# Fetch the URL data using requests.get(url),\n",
    "# store it in a variable, request_result.\n",
    "request_result=requests.get( url )\n",
    "  \n",
    "# Creating soup from the fetched request\n",
    "soup = bs4.BeautifulSoup(request_result.text,\n",
    "                         \"html.parser\")\n",
    "print(soup)"
   ]
  },
  {
   "cell_type": "code",
   "execution_count": null,
   "metadata": {},
   "outputs": [],
   "source": [
    "# soup.find.all( h3 ) to grab \n",
    "# all major headings of our search result,\n",
    "heading_object=soup.find_all( 'h3' )\n",
    "  \n",
    "# Iterate through the object \n",
    "# and print it as a string.\n",
    "for info in heading_object:\n",
    "    print(info.getText())\n",
    "    print(\"------\")"
   ]
  },
  {
   "cell_type": "code",
   "execution_count": null,
   "metadata": {},
   "outputs": [],
   "source": [
    "import requests\n",
    "import bs4\n",
    "  \n",
    "# Make two strings with default google search URL\n",
    "# 'https://google.com/search?q=' and\n",
    "# our customized search keyword.\n",
    "# Concatenate them\n",
    "text= \"geeksforgeeks\"\n",
    "url = 'https://google.com/search?q=' + text\n",
    "  \n",
    "# Fetch the URL data using requests.get(url),\n",
    "# store it in a variable, request_result.\n",
    "request_result=requests.get( url )\n",
    "  \n",
    "# Creating soup from the fetched request\n",
    "soup = bs4.BeautifulSoup(request_result.text,\n",
    "                         \"html.parser\")\n",
    "print(soup)\n"
   ]
  }
 ],
 "metadata": {
  "kernelspec": {
   "display_name": "Python 3.9.7 64-bit",
   "language": "python",
   "name": "python3"
  },
  "language_info": {
   "codemirror_mode": {
    "name": "ipython",
    "version": 3
   },
   "file_extension": ".py",
   "mimetype": "text/x-python",
   "name": "python",
   "nbconvert_exporter": "python",
   "pygments_lexer": "ipython3",
   "version": "3.9.7"
  },
  "orig_nbformat": 4,
  "vscode": {
   "interpreter": {
    "hash": "aee8b7b246df8f9039afb4144a1f6fd8d2ca17a180786b69acc140d282b71a49"
   }
  }
 },
 "nbformat": 4,
 "nbformat_minor": 2
}
